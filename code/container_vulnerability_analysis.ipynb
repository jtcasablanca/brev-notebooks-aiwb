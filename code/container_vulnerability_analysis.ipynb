{
 "cells": [
  {
   "cell_type": "markdown",
   "id": "9e60cb36-f153-4991-a31f-702f11144446",
   "metadata": {},
   "source": [
    "# Introduction"
   ]
  },
  {
   "cell_type": "markdown",
   "id": "8a0f2acb-52d9-49dd-9676-2d58715786f5",
   "metadata": {},
   "source": [
    "> \n",
    "This notebook will deploy the Vulnerability analysis for container security Blueprint using NVIDIA NIM microservices and [NVIDIA Morpheus](https://github.com/nv-morpheus/Morpheus) which demonstrates accelerated analysis on common vulnerabilities and exposures (CVE) at an enterprise scale, reducing mitigation from days and hours to just seconds. You will install the necessary prerequisites, spin up NVIDIA Morpheus SDK and NVIDIA NIM™ microservices on 4xA100 GPU nodes. For improved paralleled performance, we recommend 8x or more H100s for inference. Depending on the application, the Morpheus pipeline operation affords more flexibility on GPU needs.\n",
    "\n",
    "Once deployed, you will have a fully functional pipeline which determines whether a software package includes exploitable and vulnerable components, be able to run the blueprint on an example input including viewing the results from an output file with all the gathered and generated information for a final review by the security analyst.\n"
   ]
  },
  {
   "cell_type": "markdown",
   "id": "eb8c7758-746f-4e00-8a28-cbdc463a7925",
   "metadata": {},
   "source": [
    "# Getting Started\n",
    ">[Prerequisites](#Prerequisites)  \n",
    ">[Spin Up Blueprint](#Spin-Up-Blueprint)  \n",
    ">[Running the workflow](#Running-the-workflow)  \n",
    ">[Validate Deployment](#Validate-Deployment)  \n",
    ">[API Reference](#API-Reference)  \n",
    ">[Next Steps](#Next-Steps)  \n",
    ">[Appendix](#Appendix)  \n",
    "________________________\n"
   ]
  },
  {
   "cell_type": "markdown",
   "id": "0f6fcc47-fb41-4e54-9d30-4d17bc483779",
   "metadata": {},
   "source": [
    "## Prerequisites"
   ]
  },
  {
   "cell_type": "markdown",
   "id": "97ac0e45-27c2-414a-9216-efbaae3dab0d",
   "metadata": {},
   "source": [
    "- NVAIE developer license\n",
    "- API keys for vulnerability databases, search engines, and LLM model service(s).\n",
    "  - Details can be found in this later section: [Obtain API keys](#obtain-api-keys)"
   ]
  },
  {
   "cell_type": "markdown",
   "id": "20ccb058-fded-4570-a9df-949145e6c319",
   "metadata": {},
   "source": [
    "### Hardware requirements\n",
    "The vulnerability analysis pipeline supports the following hardware:\n",
    "\n",
    "- Pipeline operation: 1x L40 GPU recommended\n",
    "- LLM NIM: [Meta Llama 3 70B Instruct Support Matrix](https://docs.nvidia.com/nim/large-language-models/latest/support-matrix.html#meta-llama-3-70b-instruct)(Optional).\n",
    "       For improved paralleled performance, we recommend 8x or more H100s for LLM inference.\n",
    "       The pipeline can share the GPU with the LLM NIM, but it is recommended to have a separate GPU for the LLM NIM for optimal performance.\n",
    "- Embedding NIM: [NV-EmbedQA-E5-v5 Support Matrix](https://docs.nvidia.com/nim/nemo-retriever/text-embedding/latest/support-matrix.html#nv-embedqa-e5-v5) (Optional).\n",
    "       The pipeline can share the GPU with the Embedding NIM, but it is recommended to have a separate GPU for the Embedding NIM for optimal performance."
   ]
  },
  {
   "cell_type": "markdown",
   "id": "d09678c9-8fbe-41d7-84ad-ce624bec582c",
   "metadata": {},
   "source": [
    "### Clone repository and Modify Deployment Files"
   ]
  },
  {
   "cell_type": "markdown",
   "id": "9f0ded68-437d-4ad2-be82-b36ff6100b30",
   "metadata": {
    "jp-MarkdownHeadingCollapsed": true
   },
   "source": [
    "1. **Clone** <name> workflow repository"
   ]
  },
  {
   "cell_type": "code",
   "execution_count": null,
   "id": "448a97da-daf6-4069-a6a4-3e4713a445b9",
   "metadata": {},
   "outputs": [],
   "source": [
    "!git clone https://github.com/NVIDIA-AI-Blueprints/vulnerability-analysis.git"
   ]
  },
  {
   "cell_type": "code",
   "execution_count": null,
   "id": "5cb50a04-95f6-4abd-bf34-341ab3b641ee",
   "metadata": {},
   "outputs": [],
   "source": [
    "%cd vulnerability-analysis/"
   ]
  },
  {
   "cell_type": "markdown",
   "id": "1ffec8ef-e4a4-46a1-9bec-ae9a1e41556e",
   "metadata": {},
   "source": [
    "2. **Set** <name> up the workflow repository"
   ]
  },
  {
   "cell_type": "code",
   "execution_count": 2,
   "id": "aeeec243-cc02-4b52-99f7-c34938fa6a59",
   "metadata": {},
   "outputs": [],
   "source": [
    "#set an environment variable for the path to the repository root.\n",
    "import os\n",
    "os.environ['REPO_ROOT'] = '/home/ubuntu/vulnerability-analysis'"
   ]
  },
  {
   "cell_type": "markdown",
   "id": "4b11fd65-b17e-470c-ab9f-d6c5bd09d0b6",
   "metadata": {},
   "source": [
    "<div class=\"alert alert-block alert-success\">\n",
    "    <b>Tip:</b> All commands are run from the repository root unless otherwise specified."
   ]
  },
  {
   "cell_type": "markdown",
   "id": "5d26d7bf-0044-45c4-bace-18b63c41dd04",
   "metadata": {},
   "source": [
    "### Get an API Key\n",
    "To run the pipeline, you need to obtain API keys for the following APIs. These will be needed in a later step to Set up the environment file.\n",
    "\n",
    "\n"
   ]
  },
  {
   "cell_type": "markdown",
   "id": "1689c5c2-d414-43e5-b600-580a520218b5",
   "metadata": {},
   "source": [
    "- **Vulnerability databases and search engines**: These APIs are required by the pipeline to retrieve vulnerability information from databases and online search.\n",
    "  \n",
    "   - [GitHub Security Advisory (GHSA) Database](https://docs.github.com/en/authentication/keeping-your-account-and-data-secure/managing-your-personal-access-tokens#creating-a-fine-grained-personal-access-token)\n",
    "        - Follow [these](https://docs.github.com/en/authentication/keeping-your-account-and-data-secure/managing-your-personal-access-tokens#creating-a-fine-grained-personal-access-token) instructions to create a personal access token. No repository access or permissions are required for this API. This will be used in the `GHSA_API_KEY` environment variable.\n",
    "   - [National Vulnerability Database (NVD)](https://nvd.nist.gov/developers/request-an-api-key) \n",
    "        - Follow [these](https://nvd.nist.gov/developers/request-an-api-key) instructions to create an API key. This will be used in the `NVD_API_KEY` environment variable.\n",
    "   - [SerpApi](https://serpapi.com/)\n",
    "        - Go to (https://serpapi.com/) and create a SerpApi account. Once signed in, navigate to Your Account > Api Key. This will be used in the `SERPAPI_API_KEY` environment variable.\n"
   ]
  },
  {
   "cell_type": "markdown",
   "id": "c50df6ff-8b35-48e0-9f6d-3e2449633911",
   "metadata": {},
   "source": [
    "### NVIDIA Inference Microservices (NIM)\n",
    "The workflow requires LLM API calls for model inference. By default, the workflow uses NVIDIA Inference Microservices (NIMs) APIs, which provide optimized inference for each model."
   ]
  },
  {
   "cell_type": "markdown",
   "id": "d220ce41-6210-4b9e-b0cb-e39c8e6750a6",
   "metadata": {},
   "source": [
    "There are two possible methods to generate an API key for NIM:\n",
    "1. Through [the NVIDIA Build](https://build.nvidia.com/explore/discover?signin=true) portal with your email\n",
    "2. Through [NVIDIA NGC portal](https://ngc.nvidia.com/) with your email\n",
    "\n",
    "In this notebook, the API Key generation via [the NVIDIA Build](https://build.nvidia.com/explore/discover?signin=true)  is explained.\n",
    "The NVIDIA NGC API Key is required to log in to the NVIDIA container registry, nvcr.io, and to pull secure base container images used in this NIM Blueprint.  Perform the following steps if you do not already have an API key. You can use different model API endpoints with the same API key. This will be used in the `NVIDIA_API_KEY` environment variable."
   ]
  },
  {
   "cell_type": "markdown",
   "id": "dd47fa8f-7b46-4188-aa77-73d57438058c",
   "metadata": {},
   "source": [
    "1. Navigate to **[NVIDIA API Catalog](https://build.nvidia.com/explore/discover)**."
   ]
  },
  {
   "cell_type": "markdown",
   "id": "1b707189-4848-4ebc-ab4e-d55d7084bff5",
   "metadata": {},
   "source": [
    "2. Select a model, such as llama3-8b-instruct.\n",
    "   "
   ]
  },
  {
   "cell_type": "markdown",
   "id": "4217edc7-4689-4c91-8f32-59fe32d4240b",
   "metadata": {},
   "source": [
    "3. Select an **Input** option. The following example is of a model that offers a Docker option. Not all of the models offer this option, but all include a “Get API Key” link"
   ]
  },
  {
   "cell_type": "markdown",
   "id": "9fff83e0-cfee-4c77-910b-317f087df453",
   "metadata": {},
   "source": [
    "<img src=\"https://docscontent.nvidia.com/dims4/default/d6307a8/2147483647/strip/true/crop/1920x919+0+0/resize/2880x1378!/format/webp/quality/90/?url=https%3A%2F%2Fk3-prod-nvidia-docs.s3.us-west-2.amazonaws.com%2Fbrightspot%2Fsphinx%2F00000192-bfa6-da2c-a1f2-ffbf41aa0000%2Fnim%2Flarge-language-models%2Flatest%2F_images%2Fbuild_docker_tab.png\" />"
   ]
  },
  {
   "cell_type": "markdown",
   "id": "1931c98c-4419-44e9-85d1-edb98c40d655",
   "metadata": {},
   "source": [
    "3. Click **Get API Key**."
   ]
  },
  {
   "cell_type": "markdown",
   "id": "ed353f53-1998-413c-9a64-1bcaad83913c",
   "metadata": {},
   "source": [
    "<img src=\"https://docscontent.nvidia.com/dims4/default/c6e2096/2147483647/strip/true/crop/1920x919+0+0/resize/2880x1378!/format/webp/quality/90/?url=https%3A%2F%2Fk3-prod-nvidia-docs.s3.us-west-2.amazonaws.com%2Fbrightspot%2Fsphinx%2F00000192-bfa6-da2c-a1f2-ffbf41aa0000%2Fnim%2Flarge-language-models%2Flatest%2F_images%2Fbuild_get_api_key.png\" />"
   ]
  },
  {
   "cell_type": "markdown",
   "id": "5764837f-217c-43db-b48b-30ce34b6daf4",
   "metadata": {},
   "source": [
    "4. Select **\"Generate Key\"**"
   ]
  },
  {
   "cell_type": "markdown",
   "id": "67e5065b-0472-4947-a4b1-be13cace84d1",
   "metadata": {},
   "source": [
    "<img src=\"https://docscontent.nvidia.com/dims4/default/e7c4057/2147483647/strip/true/crop/1920x919+0+0/resize/2880x1378!/format/webp/quality/90/?url=https%3A%2F%2Fk3-prod-nvidia-docs.s3.us-west-2.amazonaws.com%2Fbrightspot%2Fsphinx%2F00000192-bfa6-da2c-a1f2-ffbf41aa0000%2Fnim%2Flarge-language-models%2Flatest%2F_images%2Fbuild_generate_key.png\" />"
   ]
  },
  {
   "cell_type": "markdown",
   "id": "646b06b0-c691-4c0e-b288-19d3fa7ca109",
   "metadata": {},
   "source": [
    "5. **Copy your key** and store it in a secure place. Do not share it."
   ]
  },
  {
   "cell_type": "markdown",
   "id": "9c8e6fdc-e035-44b9-87c8-3564f00b01ad",
   "metadata": {},
   "source": [
    "<img src=\"https://docscontent.nvidia.com/dims4/default/4b0710a/2147483647/strip/true/crop/1920x919+0+0/resize/2880x1378!/format/webp/quality/90/?url=https%3A%2F%2Fk3-prod-nvidia-docs.s3.us-west-2.amazonaws.com%2Fbrightspot%2Fsphinx%2F00000192-bfa6-da2c-a1f2-ffbf41aa0000%2Fnim%2Flarge-language-models%2Flatest%2F_images%2Fbuild_copy_key.png\" />"
   ]
  },
  {
   "cell_type": "markdown",
   "id": "d6d68974-f114-4763-badb-9a158582f2e3",
   "metadata": {},
   "source": [
    "<div class=\"alert alert-block alert-success\">\n",
    "    <b>Tip:</b> The key begins with the letters nvapi-."
   ]
  },
  {
   "cell_type": "markdown",
   "id": "5aa7f3c4-d8c3-4b96-bb43-5c15c4c4918b",
   "metadata": {},
   "source": [
    "## Spin Up Blueprint\n",
    "In this step, we'll export the necessary API keys into the terminal and build our vulnerability analysis container. We'll also build our NIM Containers for LLM and Embedding. This step will take **several minutes**. Finally, we'll deploy all of the containers onto the workstation. \n"
   ]
  },
  {
   "cell_type": "markdown",
   "id": "5e654cfa-771e-4f1c-9249-03fcb3a677d1",
   "metadata": {},
   "source": [
    "Set up the **environment file**"
   ]
  },
  {
   "cell_type": "code",
   "execution_count": 3,
   "id": "9c942c85-f72f-4d49-9b41-d41399dc64ce",
   "metadata": {},
   "outputs": [],
   "source": [
    "%%bash\n",
    "cd $REPO_ROOT\n",
    "cat <<EOF > .env\n",
    "GHSA_API_KEY=\"API-KEY-HERE\"\n",
    "NVD_API_KEY=\"API-KEY-HERE\"\n",
    "NVIDIA_API_KEY=\"API-KEY-HERE\"\n",
    "SERPAPI_API_KEY=\"API-KEY-HERE\"\n",
    "EOF"
   ]
  },
  {
   "cell_type": "code",
   "execution_count": 4,
   "id": "e25e4606-ebc1-49b7-8c4a-bc068cb2f7f1",
   "metadata": {},
   "outputs": [],
   "source": [
    "%%bash\n",
    "export $(cat .env | xargs)"
   ]
  },
  {
   "cell_type": "markdown",
   "id": "3d6a8a62-fc0c-4c26-87d4-f2b3b1aaba95",
   "metadata": {},
   "source": [
    "Export **API Key**\n",
    "\n",
    "To download the appropriate models and resources, you will need to set NGC_API_KEY environment variable. This will allow you to pass the API key value to a docker run command."
   ]
  },
  {
   "cell_type": "code",
   "execution_count": null,
   "id": "6dcc09bd-8b92-4366-a14c-5bf82bad8ae5",
   "metadata": {
    "scrolled": true
   },
   "outputs": [],
   "source": [
    "%%bash\n",
    "export NGC_API_KEY=\"API-KEY-HERE\"\n",
    "echo \"${NGC_API_KEY}\" | docker login nvcr.io -u '$oauthtoken' --password-stdin"
   ]
  },
  {
   "cell_type": "markdown",
   "id": "943ac521-1a53-4496-975f-b491bc0b9272",
   "metadata": {},
   "source": [
    "Use oauthtoken as the username and your API key as the password. The $oauthtoken username is a special name that indicates that you will authenticate with an API key and not a user name and password"
   ]
  },
  {
   "cell_type": "markdown",
   "id": "eb8a1bf8-582a-44fb-add2-b6259d49cbdd",
   "metadata": {},
   "source": [
    "Build the <name> **docker container**"
   ]
  },
  {
   "cell_type": "code",
   "execution_count": 6,
   "id": "974d7744-84c6-4f61-97f1-0c9f9b400b8d",
   "metadata": {
    "scrolled": true,
    "tags": []
   },
   "outputs": [],
   "source": [
    "%%bash\n",
    "cd $REPO_ROOT\n",
    "\n",
    "# Build the morpheus-vuln-analysis container\n",
    "# docker compose build morpheus-vuln-analysis"
   ]
  },
  {
   "cell_type": "markdown",
   "id": "cfd0ca5f-24c0-41a1-ab34-a4976239f1d9",
   "metadata": {},
   "source": [
    "<div class=\"alert alert-block alert-success\">\n",
    "    <b>Tip:</b> Refer to the deploy/compose/docker-compose.yml for complete details."
   ]
  },
  {
   "cell_type": "markdown",
   "id": "4096f2e9-96ea-47ea-9fb3-03db5b9515b7",
   "metadata": {},
   "source": [
    "## Running the workflow"
   ]
  },
  {
   "cell_type": "markdown",
   "id": "f8463b37-e1b3-4386-a42f-67ff0644269f",
   "metadata": {},
   "source": [
    "To run the workflow, there are two supported configurations. Both configurations utilize `docker compose` to start the service:\n",
    " - When using NVIDIA-hosted NIMs, only the `docker-compose.yml` configuration file is required. This is the default configuration and is recommended for most users getting started with the workflow.\n",
    " - When using self-hosted NIMs, both the `docker-compose.yml` and `docker-compose.nim.yml` configuration files are required."
   ]
  },
  {
   "attachments": {
    "5edbbe07-82f6-4511-a136-c069ff05039f.png": {
     "image/png": "[encoded data removed]"
    }
   },
   "cell_type": "markdown",
   "id": "1d4f6e05-a60b-411e-9ecd-a52b18bd4862",
   "metadata": {},
   "source": [
    "![image.png](attachment:5edbbe07-82f6-4511-a136-c069ff05039f.png)"
   ]
  },
  {
   "cell_type": "markdown",
   "id": "28612b11-d586-4bd5-8e0a-e12089ad9295",
   "metadata": {},
   "source": [
    "<div class=\"alert alert-block alert-success\">\n",
    "    <b>Tip:</b> The container binds to port 8080 by default. If you encounter a port collision error (e.g. Bind for 0.0.0.0:8080 failed: port is already allocated), you can set the environment variable NGINX_HOST_HTTP_PORT to specify a custom port before launching docker compose. For example:"
   ]
  },
  {
   "cell_type": "code",
   "execution_count": 7,
   "id": "b5f3468f-539e-4457-baba-ed1bd6daad07",
   "metadata": {},
   "outputs": [],
   "source": [
    "!export NGINX_HOST_HTTP_PORT=8081\n",
    "\n",
    "#... docker compose commands..."
   ]
  },
  {
   "cell_type": "markdown",
   "id": "1908d02f-905a-45fa-809c-6ae4e2410429",
   "metadata": {},
   "source": [
    "## For this Launchable: Use <name> **NVIDIA-hosted NIMs** and run the pipeline locally via this instance! \n",
    "\n",
    "Open up a JupyterLab terminal. To do this, you'll need to open a new terminal in your JupyterLab. You can do this by selecting the `+` icon in the file explorer tab to the left and clicking on the `Terminal` button. It will also help to split the display such that your terminal is visible next to this notebook side-by-side. \n",
    "\n",
    "Run the following commands:\n",
    "#### `cd vulnerability-analysis`\n",
    "\n",
    "#### `docker compose -f ./docker-compose.yml up -d`"
   ]
  },
  {
   "cell_type": "markdown",
   "id": "a85f4dbb-99c9-4d49-bab0-509b6dfa5cfd",
   "metadata": {},
   "source": [
    "## OPTIONAL SECTION : Pull <name> **Self-hosted NIMs**\n",
    "\n",
    "***NOTE***: If you want to self-host this entire blueprint, you will need an 8xH100 instance at minimum. Multiple nodes are highly recommended!"
   ]
  },
  {
   "cell_type": "code",
   "execution_count": null,
   "id": "3ae11c91-6b3d-4d61-849f-cde8b5e5ee66",
   "metadata": {},
   "outputs": [],
   "source": [
    "#docker compose -f deploy/compose/docker-compose.yml -f deploy/compose/docker-compose.nim.yml pull nim-llm nim-embed"
   ]
  },
  {
   "cell_type": "markdown",
   "id": "eee4439e-d66d-45c6-a2e7-db2bff835556",
   "metadata": {},
   "source": [
    "<div class=\"alert alert-block alert-info\">\n",
    "    <b>Note:</b> The self-hosted NIM services require additional GPU resources to run. With this configuration, the LLM NIM, embedding model NIM, and the morpheus-vuln-analysis service will all be launched on the same machine. Ensure that you have the necessary hardware requirements for all three services before proceeding (multiple services can share the same GPU)."
   ]
  },
  {
   "cell_type": "markdown",
   "id": "4de24814-dc5c-4415-ba33-570ad717153c",
   "metadata": {},
   "source": [
    "For example, to start the `morpheus-vuln-analysis` service with the self-hosted NIMs, you would run:"
   ]
  },
  {
   "cell_type": "code",
   "execution_count": null,
   "id": "78c65a8a-9b6b-43ff-ba1d-46d7b8bea5f7",
   "metadata": {},
   "outputs": [],
   "source": [
    "#cd ${REPO_ROOT}\n",
    "#docker compose -f docker-compose.yml -f docker-compose.nim.yml up -d"
   ]
  },
  {
   "cell_type": "code",
   "execution_count": null,
   "id": "f179c0a3-d1b0-4f7a-bbb3-417cc6a1003f",
   "metadata": {},
   "outputs": [],
   "source": [
    "#docker compose -f deploy/compose/docker-compose.yml exec morpheus-vuln-analysis pip install click\n",
    "\n",
    "#docker compose -f deploy/compose/docker-compose.yml -f deploy/compose/docker-compose.nim.yml exec morpheus-vuln-analysis pip install click"
   ]
  },
  {
   "cell_type": "markdown",
   "id": "79c45ac3-af80-42bd-8d13-080163617f60",
   "metadata": {},
   "source": [
    "Deploy <name> **microservices**"
   ]
  },
  {
   "cell_type": "code",
   "execution_count": null,
   "id": "2ea67b59-4575-4289-ac12-c7c375155bf0",
   "metadata": {},
   "outputs": [],
   "source": [
    "#docker compose -f deploy/compose/docker-compose.yaml up -d --build"
   ]
  },
  {
   "cell_type": "markdown",
   "id": "1e88f196-e021-4f91-ba04-7f823f348a34",
   "metadata": {},
   "source": [
    "<div class=\"alert alert-block alert-success\">\n",
    "    <b>Tip:</b> If you would like to monitor progress, refer to https://docs.docker.com/reference/cli/docker/compose/logs/."
   ]
  },
  {
   "cell_type": "markdown",
   "id": "976a7d5e-4b53-493e-aabd-13f7447a2ac0",
   "metadata": {},
   "source": [
    "<div class=\"alert alert-block alert-info\">\n",
    "    <b>Note:</b> By default, the blueprint uses the NVIDIA API Catalog hosted endpoints for LLM,and embedding models."
   ]
  },
  {
   "cell_type": "markdown",
   "id": "430c6e5d-0804-45be-97cc-2c7b45bbb903",
   "metadata": {},
   "source": [
    "To validate the deployment of the blueprint, execute the following command to ensure the container are running."
   ]
  },
  {
   "cell_type": "markdown",
   "id": "b746a9f6-1216-4e12-92cb-fdba420a3df3",
   "metadata": {},
   "source": [
    "If the deployment was successful, you should see four running containers for the Morpheus pipeline, LLM NIM, Embed NIM, and the request caching server when running the following command:"
   ]
  },
  {
   "cell_type": "code",
   "execution_count": null,
   "id": "6faad06b-a42b-45bc-a231-dba02999ae14",
   "metadata": {},
   "outputs": [],
   "source": [
    "!docker compose ps"
   ]
  },
  {
   "cell_type": "markdown",
   "id": "e9d11266-4230-4630-a38f-bb1e278c946b",
   "metadata": {},
   "source": [
    "```bash\n",
    "NAME                                              COMMAND                  SERVICE                  STATUS              PORTS\n",
    "morpheus_vuln_analysis-morpheus-vuln-analysis-1   \"/opt/conda/envs/mor…\"   morpheus-vuln-analysis   running             0.0.0.0:8888->8888/tcp, 0.0.0.0:26466->26466/tcp, :::8888->8888/tcp, :::26466->26466/tcp\n",
    "morpheus_vuln_analysis-nginx-cache-1              \"/docker-entrypoint.…\"   nginx-cache              running             0.0.0.0:8080->80/tcp, :::8080->80/tcp\n",
    "```"
   ]
  },
  {
   "cell_type": "markdown",
   "id": "1f69c0c8-a48f-4e47-9486-1b8ff434a822",
   "metadata": {},
   "source": [
    "## Starting the Workflow\n",
    "\n",
    "Now that the containers are up and running, the next step is to get the Morpheus Vulnerability Analysis pipeline running in the Morpheus container, and listening for HTTP summarization requests. "
   ]
  },
  {
   "cell_type": "markdown",
   "id": "59fa2fbc-0737-4fb2-a2e1-79018da1806d",
   "metadata": {},
   "source": [
    "To run the workflow from the command line, you can use the provided CLI tool. In order to use the CLI tool, we must first attach to the `morpheus-vuln-analysis` container.\n",
    "\n",
    "Go to the JupyterLab Terminal and run:\n",
    "`docker compose exec -it morpheus-vuln-analysis bash`"
   ]
  },
  {
   "cell_type": "markdown",
   "id": "d942805f-f317-48f8-9d74-51e125ba50b4",
   "metadata": {},
   "source": [
    "## Validate Deployment\n",
    "In that terminal you have opened, run the following command to start the pipeline and have it listen as an HTTP server to make it is up and running and ready to receive requests"
   ]
  },
  {
   "cell_type": "markdown",
   "id": "c632e589-9771-4468-a737-60bb297744b6",
   "metadata": {},
   "source": [
    "Run the following commands:\n",
    "- `cp configs/from_http.json .tmp/http_config.json` and\n",
    "- `python src/main.py --log_level DEBUG cve pipeline --config_file=.tmp/http_config.json`"
   ]
  },
  {
   "cell_type": "markdown",
   "id": "5925ad34-ba95-4e5c-9e64-b00d6d91645d",
   "metadata": {},
   "source": [
    "<div class=\"alert alert-block alert-info\">\n",
    "    <b>Note:</b> This command starts an HTTP server that listens on port 26466 and runs the workflow indefinitely, waiting for incoming data to process. This is useful if you want to trigger the workflow on demand via HTTP requests."
   ]
  },
  {
   "cell_type": "markdown",
   "id": "4fa39112-efc4-457f-bbf4-dac5aaa722b3",
   "metadata": {},
   "source": [
    "You should see the pipeline start to run with runtime counters ticking up like so:\n",
    "```bash\n",
    "Http Server Started for POST at 0.0.0.0:26466\n",
    "                            /scan.\n",
    "====Pipeline Pre-build====\n",
    "====Pre-Building Segment: linear_segment_0====\n",
    "====Pre-Building Segment Complete!====\n",
    "====Pipeline Pre-build Complete!====\n",
    "====Registering Pipeline====\n",
    "Source: 0 messages [00:00, ? messages/s]====Building Pipeline====\n",
    "Source: 0 messages [00:00, ? messages====Building Pipeline Complete!====                    \n",
    "```"
   ]
  },
  {
   "cell_type": "markdown",
   "id": "f8cde527-e48c-4f37-89d3-1ccce5076227",
   "metadata": {},
   "source": [
    "<div class=\"alert alert-block alert-info\">\n",
    "    <b>Note:</b> Keep this terminal open to keep the process running. It'll also be helpful as you can monitor the agents' thoughts and outputs as they recieve requests."
   ]
  },
  {
   "cell_type": "markdown",
   "id": "404c702e-a8e3-4a25-9afa-b0f43e093d7b",
   "metadata": {},
   "source": [
    "We'll issue our first vulnerability analysis request to the pipeline, which, by default will run the triage on the Morpheus 23.11 container release. Let's first explore what a request to the pipeline looks like:"
   ]
  },
  {
   "cell_type": "code",
   "execution_count": null,
   "id": "daf9b243-a343-47e7-aa99-4943047fc36f",
   "metadata": {},
   "outputs": [],
   "source": [
    "cat data/input_messages/morpheus:23.11-runtime.json"
   ]
  },
  {
   "cell_type": "markdown",
   "id": "24fec46e-a500-4267-868e-2e25faca8844",
   "metadata": {},
   "source": [
    "Above, we see that we are indeed asking for a vulnerability triage on the Morpheus 23.11.01-runtime container, giving the Agent context from all of the container's source code, documentation, build files, and even python notebooks. Furthermore, we include a Software Bill of Materials (SBOM) for package version identification, and a list of vulnerabilities to scan for. Let's issue a request with the above configuration. Be sure to keep an eye on the terminal to watch the agent reason and look at the output.\n"
   ]
  },
  {
   "cell_type": "markdown",
   "id": "d6634103-ed26-40ab-9bfb-90a3bdf70fe6",
   "metadata": {},
   "source": [
    "<div class=\"alert alert-block alert-info\">\n",
    "    <b>Note:</b> Your first analysis request for any new container or CVE could take several minutes as the service builds and creates a request cache for you. It is also possible to encounter 404 or 503 errors when issuing the request. Please refer to the Troubleshooting section at the end of this notebook for additional guidance. If you notice a 502 from the nginx service when issuing the request, please wait a few minutes and try again.\n"
   ]
  },
  {
   "cell_type": "code",
   "execution_count": null,
   "id": "772aadfa-26b3-4c83-a651-09025b7f1dc3",
   "metadata": {},
   "outputs": [],
   "source": [
    "! curl -v -X POST http://0.0.0.0:26466/scan -d @data/input_messages/morpheus:24.03-runtime.json"
   ]
  },
  {
   "cell_type": "markdown",
   "id": "53021943-1529-4d6c-b93a-07a84553b7e5",
   "metadata": {},
   "source": [
    "When you make the curl request, you will see something like below as the pipeline is scanning the container:"
   ]
  },
  {
   "cell_type": "markdown",
   "id": "89271696-012b-4e80-acc3-470944a0b3e3",
   "metadata": {},
   "source": [
    "```bash\n",
    "===========================\n",
    "Collecting documents from git repos. Source Infos: [{\"type\": \"code\", \"git_repo\": \"https://github.com/nv-morpheus/Morpheus.git\", \"tag\": \"v23.11.01\", \"include\": [\"**/*.cpp\", \"**/*.cu\", \"**/*.cuh\", \"**/*.h\", \"**/*.hpp\", \"**/*.ipynb\", \"**/*.py\", \"**/*Dockerfile\"], \"exclude\": [\"tests/**/*\"]}]\n",
    "Cloning repository from URL: 'https://github.com/nv-morpheus/Morpheus.git' for branch/tag 'v23.11.01'\n",
    "Source: 0 messages [12:39, ? messagesLoaded Git repository at path: '.cache/am_cache/git/https:/github.com/nv-morpheus/Morpheus.git' for branch/tag 'v23.11.01'\n",
    "Scanning documents for Git repository at path: '.cache/am_cache/git/https:/github.com/nv-morpheus/Morpheus.git'\n",
    "Source: 0 messages [12:41, ? messages/s]                                                                                                                                                                                                                                            Processing 615 files in the Git repository at path: '.cache/am_cache/git/https:/github.com/nv-morpheus/Morpheus.git'\n",
    "100%|██████████████████████████████████████████████████████████████████████████████████████████████████████████████████████████████████████████████████████████████████████████████████████████████████████████████████████████████████████████████| 615/615 [00:08<00:00, 70.27it/s]\n",
    "Collected documents for '.cache/am_cache/git/https:/github.com/nv-morpheus/Morpheus.git', Document count: 2250\n",
    "Creating FAISS database from source documents. Doc count: 2250, Chunks: 7965, Location: .cache/am_cache/vdb/code/ddb7e6a2171ab6bc████████████████████████████████████████████████████████████████████████████████████████████████████████████████▍ | 611/615 [00:08<00:00, 71.76it/s]\n",
    "```                   "
   ]
  },
  {
   "cell_type": "markdown",
   "id": "56eb58e7-90bf-4fd0-8ee7-c4f81c4bcfd1",
   "metadata": {},
   "source": [
    "Exploring <name> the **Output of the Pipeline**\n",
    "\n",
    "Upon completion of the pipeline, you should see messages similar to the following, depending on the CVE you submitted in the previous step. The output is stashed by default at `.tmp/output.json`. Sample logs are as follows:\n",
    "\n",
    "```bash\n",
    "Vulnerability 'GHSA-3f63-hfp8-52jq' affected status: FALSE. Label: code_not_present\n",
    "Vulnerability 'CVE-2024-51301' affected status: FALSE. Label: code_not_reachable\n",
    "Vulnerability 'CVE-2023-36632' affected status: FALSE. Label: code_not_present\n",
    "Vulnerability 'CVE-2023-43804' affected status: FALSE. Label: code_not_present\n",
    "Vulnerability 'GHSA-cxfr-5q3r-2rc2' affected status: FALSE. Label: code_not_present\n",
    "Vulnerability 'GHSA-554w-xh4j-8w64' affected status: FALSE. Label: code_not_present\n",
    "Vulnerability 'GHSA-3ww4-gg4f-jr7f' affected status: FALSE. Label: code_not_present\n",
    "```"
   ]
  },
  {
   "cell_type": "code",
   "execution_count": null,
   "id": "77626a98-65d3-4de7-ac97-7cea1f5b5482",
   "metadata": {
    "scrolled": true
   },
   "outputs": [],
   "source": [
    "! cat .tmp/output.json"
   ]
  },
  {
   "cell_type": "markdown",
   "id": "e1348365-3caa-4d3d-9099-1178fdc924d0",
   "metadata": {},
   "source": [
    "3. After testing queries, explore the output of the pipeline. "
   ]
  },
  {
   "cell_type": "code",
   "execution_count": 21,
   "id": "ce9fe78c-5b31-4787-9125-c9240266a471",
   "metadata": {
    "scrolled": true
   },
   "outputs": [],
   "source": [
    "import json\n",
    "with open('.tmp/output.json', 'r') as result_in:\n",
    "    scan_results = json.load(result_in)"
   ]
  },
  {
   "cell_type": "code",
   "execution_count": null,
   "id": "60dd21da-371f-4eb5-807b-d8730b917afa",
   "metadata": {
    "scrolled": true
   },
   "outputs": [],
   "source": [
    "# Print the structure of the results\n",
    "print(json.dumps(scan_results, indent=2))\n",
    "\n",
    "# Or see the keys at the top level\n",
    "print(scan_results.keys())"
   ]
  },
  {
   "cell_type": "markdown",
   "id": "a129d8b5-b3e2-4563-a11f-038dbd924a17",
   "metadata": {},
   "source": [
    "To support operational requirements, the blueprint includes reference code for managing key administrative tasks such as generating conversation summaries and conducting sentiment analysis.  This is accomplished using a analytics server which offers three APIs:  \n",
    "\n",
    ">- /sessions - lists all sessions from the last k hours\n",
    ">- /session/summary - provides summary and sentiment analysis for a given session's conversation\n",
    ">- /session/conversation - offers sentiment analysis for individual queries and responses"
   ]
  },
  {
   "cell_type": "markdown",
   "id": "6cca11d1-df47-4cba-b667-5cccf105849e",
   "metadata": {},
   "source": [
    "4. Explore the vulnerability analysis outputs using Llama3.1-70B!"
   ]
  },
  {
   "cell_type": "code",
   "execution_count": null,
   "id": "28becec9-47dd-4a6d-8daf-1cf9ca28a772",
   "metadata": {},
   "outputs": [],
   "source": [
    "%cd vulnerability-analysis/"
   ]
  },
  {
   "cell_type": "code",
   "execution_count": null,
   "id": "be2ad682-dc26-478c-b58f-a992d73a1a8d",
   "metadata": {
    "scrolled": true
   },
   "outputs": [],
   "source": [
    "from openai import OpenAI\n",
    "import json\n",
    "\n",
    "# Initialize NVIDIA API client\n",
    "client = OpenAI(\n",
    "    api_key=\"API-KEY-HERE\",\n",
    "    base_url=\"https://integrate.api.nvidia.com/v1\"\n",
    ")\n",
    "\n",
    "# Load vulnerability data\n",
    "with open('.tmp/output.json', 'r') as f:\n",
    "    data = json.load(f)\n",
    "\n",
    "# Format the context once\n",
    "context = \"\"\n",
    "for vuln in data['output']:\n",
    "    context += f\"\"\"\n",
    "Vulnerability ID: {vuln['vuln_id']}\n",
    "Summary: {vuln['summary']}\n",
    "Justification: {vuln['justification']['label']}\n",
    "Reason: {vuln['justification']['reason']}\n",
    "Status: {vuln['justification']['status']}\n",
    "\"\"\"\n",
    "\n",
    "# Create completion\n",
    "prompt = \"\"\"Based on the following vulnerability information:\n",
    "{}\n",
    "Question: What vulnerabilities were found to be exploitable?\n",
    "Please provide a detailed answer focusing on the vulnerability details provided.\"\"\".format(context)\n",
    "\n",
    "completion = client.chat.completions.create(\n",
    "    model=\"meta/llama-3.1-70b-instruct\",\n",
    "    messages=[\n",
    "        {\"role\": \"system\", \"content\": \"You are a security expert analyzing vulnerability reports.\"},\n",
    "        {\"role\": \"user\", \"content\": prompt}\n",
    "    ],\n",
    "    temperature=0.5,\n",
    "    top_p=1,\n",
    "    max_tokens=1024,\n",
    "    stream=True\n",
    ")\n",
    "\n",
    "# Print the response\n",
    "for chunk in completion:\n",
    "    if chunk.choices[0].delta.content is not None:\n",
    "        print(chunk.choices[0].delta.content, end=\"\")"
   ]
  },
  {
   "cell_type": "markdown",
   "id": "3d774fc0-3b2c-4482-83c4-cbfa32851eae",
   "metadata": {},
   "source": [
    "## API Reference\n",
    "For detailed API references, please refer to the following locations in the current directory:\n",
    ">- Summary & Conversation APIs:\n",
    "./docs/api_references/analytics_server.json\n",
    "\n",
    ">- Generate API:\n",
    "./docs/api_references/agent_server.json\n"
   ]
  },
  {
   "cell_type": "markdown",
   "id": "a4b0c82e-9d62-4f21-ab17-e3af1369d309",
   "metadata": {},
   "source": [
    "# Next Steps"
   ]
  },
  {
   "cell_type": "markdown",
   "id": "6d5e506f-6a11-4e1f-ae43-b87a2b2d647f",
   "metadata": {},
   "source": [
    "Open the **2_workflow_customization.ipynb** notebook.  Within this notebook you will customize the workflow to generate a new configuration file, define the pipeline settings, such as the input data, the LLM models used, and the output format. You will also be able to swap in CVE IDs and custom code repository."
   ]
  },
  {
   "cell_type": "markdown",
   "id": "c23cdd4d-2f22-46c1-ab94-99847c1c7dbb",
   "metadata": {},
   "source": [
    "# Appendix\n",
    "________________________"
   ]
  },
  {
   "cell_type": "markdown",
   "id": "7239d79e-d6a4-491c-bd7f-289e479078cc",
   "metadata": {},
   "source": [
    "## NGINX caching server"
   ]
  },
  {
   "cell_type": "markdown",
   "id": "80fcdcbd-8492-4bc3-96e0-9377dce50641",
   "metadata": {},
   "source": [
    "The docker compose file includes an nginx-cache proxy server container that enables caching for API requests made by the workflow. It is highly recommend to route API requests through the proxy server to reduce API calls for duplicate requests and improve workflow speed. This is especially useful when running the pipeline multiple times with the same configuration (e.g., for debugging) and can help keep costs down when using paid APIs."
   ]
  },
  {
   "cell_type": "markdown",
   "id": "fa41adad-0209-46a0-9d08-03aa86ad1296",
   "metadata": {},
   "source": [
    "The NGINX proxy server is started by default when running the `morpheus-vuln-analysis` service. However, it can be started separately using the following command:"
   ]
  },
  {
   "cell_type": "markdown",
   "id": "adbad08f-19da-4dea-a77f-8a8ba125b5e9",
   "metadata": {},
   "source": [
    "```bash\n",
    "cd ${REPO_ROOT}\n",
    "docker compose up --detach nginx-cache\n",
    "```"
   ]
  },
  {
   "cell_type": "markdown",
   "id": "850c7be0-4b48-4a07-b320-a6a5fb75f7b4",
   "metadata": {},
   "source": [
    "## Troubleshooting"
   ]
  },
  {
   "cell_type": "markdown",
   "id": "6acb22af-807f-4386-99a3-efe6753ad676",
   "metadata": {},
   "source": [
    "\n",
    "Several common issues can arise when running the pipeline. Here are some common issues and their solutions.\n",
    "\n",
    "### Git LFS issues\n",
    "\n",
    "If you encounter issues with Git LFS, ensure that you have Git LFS installed and that it is enabled for the repository. You can check if Git LFS is enabled by running the following command:\n",
    "```bash\n",
    "git lfs install\n",
    "```\n",
    "\n",
    "Verifying that all files are being tracked by Git LFS can be done by running the following command:\n",
    "```bash\n",
    "git lfs ls-files\n",
    "```\n",
    "Files which are missing will show a `-` next to their name. To ensure all LFS files have been pulled correctly, you can run the following command:\n",
    "```bash\n",
    "git lfs fetch --all\n",
    "git lfs checkout *\n",
    "```\n",
    "\n",
    "### NGINX caching server\n",
    "\n",
    "Because the workflow makes such heavy use of the caching server to speed up API requests, it is important to ensure that the server is running correctly. If you encounter issues with the caching server, you can reset the cache.\n",
    "\n",
    "#### Resetting the entire cache\n",
    "\n",
    "To reset the entire cache, you can run the following command:\n",
    "```bash\n",
    "docker compose -f docker-compose.yml -f docker-compose.nim.yml down -v\n",
    "```\n",
    "This will delete all the volumes associated with the containers, including the cache.\n",
    "\n",
    "#### Resetting just the LLM cache or the services cache\n",
    "\n",
    "If you want to reset just the LLM cache or the services cache, you can run the following commands:\n",
    "```bash\n",
    "docker compose -f docker-compose.yml down\n",
    "\n",
    "# To remove the LLM cache\n",
    "docker volume rm ${COMPOSE_PROJECT_NAME:-morpheus_vuln_analysis}-llm-cache\n",
    "\n",
    "# To remove the services cache\n",
    "docker volume rm ${COMPOSE_PROJECT_NAME:-morpheus_vuln_analysis}-service-cache\n",
    "```\n",
    "\n",
    "### Service outages\n",
    "\n",
    "#### National Vulnerability Database (NVD)\n",
    "These typically resolve on their own. Please wait and try running the pipeline again later. Example errors:\n",
    "\n",
    "404\n",
    "```\n",
    "Error requesting [1/10]: (Retry 0.1 sec) https://services.nvd.nist.gov/rest/json/cves/2.0: 404, message='', url=URL('https://services.nvd.nist.gov/rest/json/cves/2.0?cveId=CVE-2023-6709')\n",
    "```\n",
    "\n",
    "503\n",
    "```\n",
    "Error requesting [1/10]: (Retry 0.1 sec) https://services.nvd.nist.gov/rest/json/cves/2.0: 503, message='Service Unavailable', url=URL('https://services.nvd.nist.gov/rest/json/cves/2.0?cveId=CVE-2023-50447')\n",
    "```"
   ]
  },
  {
   "cell_type": "markdown",
   "id": "f88c1421-e582-4f09-9fee-522eb498a404",
   "metadata": {},
   "source": [
    "<div class=\"alert alert-block alert-info\">\n",
    "    <b>Note:</b> By default, GPU IDs 0-3 are for LLM, 4 for the embedding model, and 5 for the reranking model.\n",
    "    \n",
    ">To change the GPUs used for NIM deployment, set the following environment variables:\n",
    "\n",
    ">>**LLM_MS_GPU_ID**: Update this to specify the LLM GPU IDs (e.g., 0,1,2,3).\n",
    "\n",
    ">>**EMBEDDING_MS_GPU_ID**: Change this to set the embedding GPU ID.\n",
    ">>\n",
    ">>**RANKING_MS_GPU_ID**: Modify this to adjust the reranking LLM GPU ID."
   ]
  }
 ],
 "metadata": {
  "kernelspec": {
   "display_name": "Python 3 (ipykernel)",
   "language": "python",
   "name": "python3"
  },
  "language_info": {
   "codemirror_mode": {
    "name": "ipython",
    "version": 3
   },
   "file_extension": ".py",
   "mimetype": "text/x-python",
   "name": "python",
   "nbconvert_exporter": "python",
   "pygments_lexer": "ipython3",
   "version": "3.8.10"
  }
 },
 "nbformat": 4,
 "nbformat_minor": 5
}
